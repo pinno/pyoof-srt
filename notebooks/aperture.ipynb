{
 "cells": [
  {
   "cell_type": "markdown",
   "metadata": {},
   "source": [
    "# Aperture and blockage functions"
   ]
  },
  {
   "cell_type": "code",
   "execution_count": 1,
   "metadata": {
    "collapsed": true
   },
   "outputs": [],
   "source": [
    "# Adjustin notebook\n",
    "%load_ext autoreload\n",
    "%autoreload 2\n",
    "%matplotlib inline\n",
    "%config InlineBackend.figure_format = 'retina'"
   ]
  },
  {
   "cell_type": "code",
   "execution_count": 4,
   "metadata": {
    "collapsed": true
   },
   "outputs": [],
   "source": [
    "import numpy as np\n",
    "import matplotlib.pyplot as plt\n",
    "import pyoof"
   ]
  },
  {
   "cell_type": "code",
   "execution_count": 13,
   "metadata": {
    "collapsed": false
   },
   "outputs": [
    {
     "data": {
      "text/plain": [
       "<matplotlib.image.AxesImage at 0x106bf7e80>"
      ]
     },
     "execution_count": 13,
     "metadata": {},
     "output_type": "execute_result"
    },
    {
     "data": {
      "image/png": "[encoded data removed]",
      "text/plain": [
       "<matplotlib.figure.Figure at 0x106bffef0>"
      ]
     },
     "metadata": {
      "image/png": {
       "height": 258,
       "width": 255
      }
     },
     "output_type": "display_data"
    }
   ],
   "source": [
    "# Testing the blockage functions\n",
    "pr = 50  # Efffelsber primary reflector radius in meters\n",
    "box_size = pr * 1.3\n",
    "x = np.linspace(-box_size, box_size, 1e3)\n",
    "x_grid, y_grid = np.meshgrid(x, x)\n",
    "\n",
    "_blockage_effelsberg = pyoof.blockage_effelsberg(x_grid, y_grid)\n",
    "\n",
    "extent = [-box_size, box_size, -box_size, box_size]\n",
    "plt.title('Effeslberg blockage function')\n",
    "plt.imshow(_blockage_effelsberg, extent=extent, origin='lower')"
   ]
  },
  {
   "cell_type": "code",
   "execution_count": null,
   "metadata": {
    "collapsed": true
   },
   "outputs": [],
   "source": []
  }
 ],
 "metadata": {
  "anaconda-cloud": {},
  "kernelspec": {
   "display_name": "Python [default]",
   "language": "python",
   "name": "python3"
  },
  "language_info": {
   "codemirror_mode": {
    "name": "ipython",
    "version": 3
   },
   "file_extension": ".py",
   "mimetype": "text/x-python",
   "name": "python",
   "nbconvert_exporter": "python",
   "pygments_lexer": "ipython3",
   "version": "3.5.2"
  }
 },
 "nbformat": 4,
 "nbformat_minor": 1
}
