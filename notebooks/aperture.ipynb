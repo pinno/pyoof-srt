{
 "cells": [
  {
   "cell_type": "markdown",
   "metadata": {},
   "source": [
    "# Aperture and blockage functions"
   ]
  },
  {
   "cell_type": "code",
   "execution_count": 1,
   "metadata": {
    "collapsed": true
   },
   "outputs": [],
   "source": [
    "# Adjustin notebook\n",
    "%load_ext autoreload\n",
    "%autoreload 2\n",
    "%matplotlib inline\n",
    "%config InlineBackend.figure_format = 'retina'"
   ]
  },
  {
   "cell_type": "code",
   "execution_count": 3,
   "metadata": {
    "collapsed": false
   },
   "outputs": [],
   "source": [
    "import numpy as np\n",
    "import matplotlib.pyplot as plt\n",
    "from pyoof import telgeometry"
   ]
  },
  {
   "cell_type": "code",
   "execution_count": 4,
   "metadata": {
    "collapsed": false
   },
   "outputs": [
    {
     "data": {
      "image/png": "[encoded data removed]",
      "text/plain": [
       "<matplotlib.figure.Figure at 0x110856630>"
      ]
     },
     "metadata": {
      "image/png": {
       "height": 185,
       "width": 393
      }
     },
     "output_type": "display_data"
    }
   ],
   "source": [
    "# Testing the blockage functions\n",
    "pr = 50  # Efffelsber primary reflector radius in meters\n",
    "box_size = pr\n",
    "x = np.linspace(-box_size, box_size, 1e3)\n",
    "x_grid, y_grid = np.meshgrid(x, x)\n",
    "\n",
    "# Telgeo module\n",
    "_blockage_effelsberg = telgeometry.blockage_effelsberg(x=x_grid, y=y_grid)\n",
    "_blockage_manual = telgeometry.blockage_manual(pr=pr, sr=5)(x=x_grid, y=y_grid)\n",
    "\n",
    "extent = [-box_size, box_size, -box_size, box_size]\n",
    "\n",
    "fig, ax = plt.subplots(ncols=2)\n",
    "fig.subplots_adjust(wspace=0.5)\n",
    "    \n",
    "ax[0].set_title('Effeslberg blockage function')\n",
    "ax[0].imshow(_blockage_effelsberg, extent=extent, origin='lower')\n",
    "\n",
    "ax[1].set_title('Manual blockage with pr=50 and sr=5')\n",
    "ax[1].imshow(_blockage_manual, extent=extent, origin='lower')\n",
    "\n",
    "for _ax in ax:\n",
    "    _ax.set_xlabel('x m')\n",
    "    _ax.set_ylabel('y m')\n",
    "\n",
    "# create an example blockage"
   ]
  },
  {
   "cell_type": "markdown",
   "metadata": {},
   "source": [
    "The illumination function it is also a 2-dim grid, it is usually presented as a 1-dim function in books to compare between several types"
   ]
  },
  {
   "cell_type": "code",
   "execution_count": null,
   "metadata": {
    "collapsed": true
   },
   "outputs": [],
   "source": [
    "# importing the illumination functions\n"
   ]
  }
 ],
 "metadata": {
  "anaconda-cloud": {},
  "kernelspec": {
   "display_name": "Python [default]",
   "language": "python",
   "name": "python3"
  },
  "language_info": {
   "codemirror_mode": {
    "name": "ipython",
    "version": 3
   },
   "file_extension": ".py",
   "mimetype": "text/x-python",
   "name": "python",
   "nbconvert_exporter": "python",
   "pygments_lexer": "ipython3",
   "version": "3.5.2"
  }
 },
 "nbformat": 4,
 "nbformat_minor": 1
}
